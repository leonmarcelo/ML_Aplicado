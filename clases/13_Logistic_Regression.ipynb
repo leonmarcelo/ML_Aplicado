{
 "cells": [
  {
   "cell_type": "markdown",
   "id": "42f0f54b",
   "metadata": {},
   "source": [
    "# Ejemplo Regresión Logísitca\n",
    "****\n",
    "    - Basada en el ejemplo del libro: Hands-On Machine Learning with Scikit-Learn, Keras, and TensorFlow, 2nd Edition by Aurélien Géron Released September 2019 Publisher(s): O'Reilly Media, Inc. Capítulo 4 \"Logistic Regresion\""
   ]
  },
  {
   "cell_type": "markdown",
   "id": "d70a7c63",
   "metadata": {},
   "source": [
    "## Modulos necesarios"
   ]
  },
  {
   "cell_type": "code",
   "execution_count": 17,
   "id": "f0cf2dfb",
   "metadata": {},
   "outputs": [],
   "source": [
    "from sklearn import datasets\n",
    "import numpy as np\n",
    "from matplotlib import pyplot as plt\n",
    "\n",
    "from sklearn.metrics import classification_report, confusion_matrix\n",
    "from sklearn.metrics import roc_curve, auc, plot_confusion_matrix\n",
    "from sklearn.metrics import precision_score, recall_score, accuracy_score, f1_score"
   ]
  },
  {
   "cell_type": "markdown",
   "id": "ee430828",
   "metadata": {},
   "source": [
    "## Cargando datos"
   ]
  },
  {
   "cell_type": "code",
   "execution_count": 2,
   "id": "fcbcd37a",
   "metadata": {},
   "outputs": [],
   "source": [
    "iris = datasets.load_iris()"
   ]
  },
  {
   "cell_type": "code",
   "execution_count": 3,
   "id": "6e82353b",
   "metadata": {},
   "outputs": [
    {
     "data": {
      "text/plain": [
       "['data',\n",
       " 'target',\n",
       " 'frame',\n",
       " 'target_names',\n",
       " 'DESCR',\n",
       " 'feature_names',\n",
       " 'filename']"
      ]
     },
     "execution_count": 3,
     "metadata": {},
     "output_type": "execute_result"
    }
   ],
   "source": [
    "list(iris.keys())"
   ]
  },
  {
   "cell_type": "code",
   "execution_count": 4,
   "id": "fef5843a",
   "metadata": {},
   "outputs": [],
   "source": [
    "values, counts = np.unique(iris[\"target\"], return_counts=True) "
   ]
  },
  {
   "cell_type": "code",
   "execution_count": 5,
   "id": "149630cb",
   "metadata": {},
   "outputs": [
    {
     "name": "stdout",
     "output_type": "stream",
     "text": [
      "[0 1 2] [50 50 50]\n",
      "['setosa' 'versicolor' 'virginica']\n"
     ]
    }
   ],
   "source": [
    "print(values, counts)\n",
    "print(iris[\"target_names\"])"
   ]
  },
  {
   "cell_type": "markdown",
   "id": "81085077",
   "metadata": {},
   "source": [
    "## Problema: Clasificación del dataset  \"iris flowers\" en las categorías:\n",
    "- Clase 1: virginica\n",
    "- Clase 0: Non-virginica"
   ]
  },
  {
   "cell_type": "code",
   "execution_count": 6,
   "id": "612bf9af",
   "metadata": {},
   "outputs": [],
   "source": [
    "X = iris[\"data\"][:,3] # ancho del pétalo\n",
    "X = X.reshape(-1,1)\n",
    "y = (iris[\"target\"] == 2).astype(np.int32) # 1 if class iris-virginca, 0 si no (setosa y versicolor)"
   ]
  },
  {
   "cell_type": "code",
   "execution_count": 7,
   "id": "ebe82f8a",
   "metadata": {},
   "outputs": [],
   "source": [
    "from sklearn.model_selection import train_test_split\n",
    "X_train, X_test, y_train, y_test = train_test_split(X,y, test_size=0.2, random_state=0)"
   ]
  },
  {
   "cell_type": "markdown",
   "id": "3a4b6c5e",
   "metadata": {},
   "source": [
    "## Logistic Regression\n",
    "*****\n",
    "- Documentation in scikit-learn: https://scikit-learn.org/stable/modules/generated/sklearn.linear_model.LogisticRegression.html#sklearn.linear_model.LogisticRegression.fit"
   ]
  },
  {
   "cell_type": "code",
   "execution_count": 8,
   "id": "9d238f55",
   "metadata": {},
   "outputs": [],
   "source": [
    "from sklearn.linear_model import LogisticRegression"
   ]
  },
  {
   "cell_type": "code",
   "execution_count": 9,
   "id": "86be6404",
   "metadata": {},
   "outputs": [
    {
     "data": {
      "text/plain": [
       "LogisticRegression()"
      ]
     },
     "execution_count": 9,
     "metadata": {},
     "output_type": "execute_result"
    }
   ],
   "source": [
    "log_reg = LogisticRegression()\n",
    "log_reg.fit(X_train, y_train)"
   ]
  },
  {
   "cell_type": "code",
   "execution_count": 14,
   "id": "9ce39522",
   "metadata": {},
   "outputs": [],
   "source": [
    "y_pred = log_reg.predict(X_test)\n",
    "y_proba = log_reg.predict_proba(X_test)"
   ]
  },
  {
   "cell_type": "code",
   "execution_count": 16,
   "id": "6f086da0",
   "metadata": {},
   "outputs": [
    {
     "name": "stdout",
     "output_type": "stream",
     "text": [
      "[1 0 0 1 0 1 0 0 0 0 0 0 0 0 0 0 0 0 0 0 1 0 0 0 1 0 0 0 0 0]\n",
      "[[0.04409161 0.95590839]\n",
      " [0.92922401 0.07077599]\n",
      " [0.9969939  0.0030061 ]\n",
      " [0.34198969 0.65801031]\n",
      " [0.9969939  0.0030061 ]]\n"
     ]
    }
   ],
   "source": [
    "print(y_pred)\n",
    "print(y_proba[0:5,:])"
   ]
  },
  {
   "cell_type": "markdown",
   "id": "d7aafc73",
   "metadata": {},
   "source": [
    "## Metrics"
   ]
  },
  {
   "cell_type": "code",
   "execution_count": 18,
   "id": "72890bb7",
   "metadata": {},
   "outputs": [
    {
     "name": "stdout",
     "output_type": "stream",
     "text": [
      "F1: 0.91  -- prec: 1.00  -- recall: 0.83  -- acc: 0.97\n"
     ]
    }
   ],
   "source": [
    "fpr, tpr, ths = roc_curve(y_test,  y_pred)\n",
    "auc_ = auc(fpr, tpr)\n",
    "f1 = f1_score(y_test,  (y_pred>.5))\n",
    "prec = precision_score(y_test,  (y_pred>.5))\n",
    "rec = recall_score(y_test,  (y_pred>.5))\n",
    "acc = accuracy_score(y_test,  (y_pred>.5))\n",
    "print(\"F1: %.2f\" %f1 , \" -- prec: %.2f\" %prec, \" -- recall: %.2f\" %rec, \" -- acc: %.2f\" %acc)\n",
    "\n"
   ]
  },
  {
   "cell_type": "markdown",
   "id": "ca7c59d1",
   "metadata": {},
   "source": [
    "### CM of Testing set"
   ]
  },
  {
   "cell_type": "code",
   "execution_count": 21,
   "id": "6de5bf43",
   "metadata": {
    "scrolled": true
   },
   "outputs": [
    {
     "data": {
      "text/plain": [
       "<sklearn.metrics._plot.confusion_matrix.ConfusionMatrixDisplay at 0x1372b2ca0>"
      ]
     },
     "execution_count": 21,
     "metadata": {},
     "output_type": "execute_result"
    },
    {
     "data": {
      "image/png": "[encoded data removed]",
      "text/plain": [
       "<Figure size 432x288 with 2 Axes>"
      ]
     },
     "metadata": {
      "needs_background": "light"
     },
     "output_type": "display_data"
    }
   ],
   "source": [
    "plot_confusion_matrix(log_reg, X_test, y_test, cmap = plt.cm.Blues)"
   ]
  },
  {
   "cell_type": "markdown",
   "id": "eea3ffda",
   "metadata": {},
   "source": [
    "### CM of Training se"
   ]
  },
  {
   "cell_type": "code",
   "execution_count": 23,
   "id": "3a2bd90c",
   "metadata": {},
   "outputs": [
    {
     "data": {
      "text/plain": [
       "<sklearn.metrics._plot.confusion_matrix.ConfusionMatrixDisplay at 0x137424ca0>"
      ]
     },
     "execution_count": 23,
     "metadata": {},
     "output_type": "execute_result"
    },
    {
     "data": {
      "image/png": "[encoded data removed]",
      "text/plain": [
       "<Figure size 432x288 with 2 Axes>"
      ]
     },
     "metadata": {
      "needs_background": "light"
     },
     "output_type": "display_data"
    }
   ],
   "source": [
    "plot_confusion_matrix(log_reg, X_train, y_train, cmap = plt.cm.Blues)"
   ]
  },
  {
   "cell_type": "markdown",
   "id": "6158d225",
   "metadata": {},
   "source": [
    "## Plots of variable values versus probabilites"
   ]
  },
  {
   "cell_type": "code",
   "execution_count": 25,
   "id": "2620de3b",
   "metadata": {},
   "outputs": [
    {
     "data": {
      "image/png": "[encoded data removed]",
      "text/plain": [
       "<Figure size 864x432 with 1 Axes>"
      ]
     },
     "metadata": {
      "needs_background": "light"
     },
     "output_type": "display_data"
    }
   ],
   "source": [
    "\n",
    "\n",
    "import matplotlib.pyplot as plt\n",
    "plt.rcParams.update({'font.size': 22})\n",
    "\n",
    "plt.figure(figsize=(12,6))\n",
    "plt.plot(X_test, y_proba[:,1], \"og\", label=\"Prob. virginica\")\n",
    "plt.plot(X_test, y_proba[:,0], \"ob\", label=\"Prob. no-virginica\")\n",
    "plt.plot(X_test[y_pred==1],np.ones((y_pred==1).sum()),\"<m\")\n",
    "plt.plot(X_test[y_pred!=1],np.zeros((y_pred!=1).sum()),\">c\")\n",
    "\n",
    "plt.xlabel(\"Ancho del pétalo [cm]\")\n",
    "plt.ylabel(\"Probability\")\n",
    "plt.legend(loc=\"best\")\n",
    "plt.grid()\n",
    "plt.show()"
   ]
  },
  {
   "cell_type": "markdown",
   "id": "4f649784",
   "metadata": {},
   "source": [
    "## Probability Histogram"
   ]
  },
  {
   "cell_type": "code",
   "execution_count": 26,
   "id": "fdd135ef",
   "metadata": {},
   "outputs": [
    {
     "data": {
      "image/png": "[encoded data removed]",
      "text/plain": [
       "<Figure size 720x432 with 1 Axes>"
      ]
     },
     "metadata": {
      "needs_background": "light"
     },
     "output_type": "display_data"
    }
   ],
   "source": [
    "plt.figure(figsize=(10,6))\n",
    "plt.hist(1 - y_proba[:,0][y_test == 0], label=\"Non-Virginica\", alpha=0.5)\n",
    "plt.hist(y_proba[:,1][y_test == 1], label=\"Virginica\")\n",
    "plt.legend()\n",
    "plt.xlabel(\"Probability\")\n",
    "plt.ylabel(\"Number of points\")\n",
    "plt.grid()\n",
    "plt.title(\"Probability distribution, Testing Set\")\n",
    "plt.show()"
   ]
  },
  {
   "cell_type": "code",
   "execution_count": null,
   "id": "a61dbd7e",
   "metadata": {},
   "outputs": [],
   "source": []
  }
 ],
 "metadata": {
  "kernelspec": {
   "display_name": "Python 3",
   "language": "python",
   "name": "python3"
  },
  "language_info": {
   "codemirror_mode": {
    "name": "ipython",
    "version": 3
   },
   "file_extension": ".py",
   "mimetype": "text/x-python",
   "name": "python",
   "nbconvert_exporter": "python",
   "pygments_lexer": "ipython3",
   "version": "3.8.10"
  }
 },
 "nbformat": 4,
 "nbformat_minor": 5
}
