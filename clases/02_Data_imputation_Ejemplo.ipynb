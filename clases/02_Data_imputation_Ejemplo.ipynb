{
 "cells": [
  {
   "cell_type": "markdown",
   "id": "570e3a59",
   "metadata": {},
   "source": [
    "Ejemplo modificado de: https://medium.com/@Cambridge_Spark/tutorial-introduction-to-missing-data-imputation-4912b51c34eb\n",
    "\n",
    "# Bibliotecas"
   ]
  },
  {
   "cell_type": "code",
   "execution_count": 19,
   "id": "37c0673a",
   "metadata": {},
   "outputs": [],
   "source": [
    "import numpy as np\n",
    "import seaborn as sb\n",
    "import pandas as pd\n",
    "from matplotlib import pyplot as plt"
   ]
  },
  {
   "cell_type": "markdown",
   "id": "878d5358",
   "metadata": {},
   "source": [
    "# Obtención de datos \n",
    "*****"
   ]
  },
  {
   "cell_type": "markdown",
   "id": "aba0df64",
   "metadata": {},
   "source": [
    "El dataset \"tips\" permite analizar como es el comportamiento de las propinas que se da a los meseros, la que se ve influenciada por muchos factores, incluida la naturaleza del restaurante, el tamaño del loca, ubicación de la mesa. A los dueños de los restaurantes (por ej. en US) les interesa saber qué factores influyen en las propinas, para así realizar asignación de mesa a los meseros, ya que buscan evitar \"injusticas\" en las asignaciones.\n"
   ]
  },
  {
   "cell_type": "code",
   "execution_count": 5,
   "id": "a8ce43bd",
   "metadata": {},
   "outputs": [
    {
     "data": {
      "text/html": [
       "<div>\n",
       "<style scoped>\n",
       "    .dataframe tbody tr th:only-of-type {\n",
       "        vertical-align: middle;\n",
       "    }\n",
       "\n",
       "    .dataframe tbody tr th {\n",
       "        vertical-align: top;\n",
       "    }\n",
       "\n",
       "    .dataframe thead th {\n",
       "        text-align: right;\n",
       "    }\n",
       "</style>\n",
       "<table border=\"1\" class=\"dataframe\">\n",
       "  <thead>\n",
       "    <tr style=\"text-align: right;\">\n",
       "      <th></th>\n",
       "      <th>total_bill</th>\n",
       "      <th>tip</th>\n",
       "      <th>sex</th>\n",
       "      <th>smoker</th>\n",
       "      <th>day</th>\n",
       "      <th>time</th>\n",
       "      <th>size</th>\n",
       "    </tr>\n",
       "  </thead>\n",
       "  <tbody>\n",
       "    <tr>\n",
       "      <th>0</th>\n",
       "      <td>16.99</td>\n",
       "      <td>1.01</td>\n",
       "      <td>Female</td>\n",
       "      <td>No</td>\n",
       "      <td>Sun</td>\n",
       "      <td>Dinner</td>\n",
       "      <td>2</td>\n",
       "    </tr>\n",
       "    <tr>\n",
       "      <th>1</th>\n",
       "      <td>10.34</td>\n",
       "      <td>1.66</td>\n",
       "      <td>Male</td>\n",
       "      <td>No</td>\n",
       "      <td>Sun</td>\n",
       "      <td>Dinner</td>\n",
       "      <td>3</td>\n",
       "    </tr>\n",
       "    <tr>\n",
       "      <th>2</th>\n",
       "      <td>21.01</td>\n",
       "      <td>3.50</td>\n",
       "      <td>Male</td>\n",
       "      <td>No</td>\n",
       "      <td>Sun</td>\n",
       "      <td>Dinner</td>\n",
       "      <td>3</td>\n",
       "    </tr>\n",
       "    <tr>\n",
       "      <th>3</th>\n",
       "      <td>23.68</td>\n",
       "      <td>3.31</td>\n",
       "      <td>Male</td>\n",
       "      <td>No</td>\n",
       "      <td>Sun</td>\n",
       "      <td>Dinner</td>\n",
       "      <td>2</td>\n",
       "    </tr>\n",
       "    <tr>\n",
       "      <th>4</th>\n",
       "      <td>24.59</td>\n",
       "      <td>3.61</td>\n",
       "      <td>Female</td>\n",
       "      <td>No</td>\n",
       "      <td>Sun</td>\n",
       "      <td>Dinner</td>\n",
       "      <td>4</td>\n",
       "    </tr>\n",
       "    <tr>\n",
       "      <th>...</th>\n",
       "      <td>...</td>\n",
       "      <td>...</td>\n",
       "      <td>...</td>\n",
       "      <td>...</td>\n",
       "      <td>...</td>\n",
       "      <td>...</td>\n",
       "      <td>...</td>\n",
       "    </tr>\n",
       "    <tr>\n",
       "      <th>239</th>\n",
       "      <td>29.03</td>\n",
       "      <td>5.92</td>\n",
       "      <td>Male</td>\n",
       "      <td>No</td>\n",
       "      <td>Sat</td>\n",
       "      <td>Dinner</td>\n",
       "      <td>3</td>\n",
       "    </tr>\n",
       "    <tr>\n",
       "      <th>240</th>\n",
       "      <td>27.18</td>\n",
       "      <td>2.00</td>\n",
       "      <td>Female</td>\n",
       "      <td>Yes</td>\n",
       "      <td>Sat</td>\n",
       "      <td>Dinner</td>\n",
       "      <td>2</td>\n",
       "    </tr>\n",
       "    <tr>\n",
       "      <th>241</th>\n",
       "      <td>22.67</td>\n",
       "      <td>2.00</td>\n",
       "      <td>Male</td>\n",
       "      <td>Yes</td>\n",
       "      <td>Sat</td>\n",
       "      <td>Dinner</td>\n",
       "      <td>2</td>\n",
       "    </tr>\n",
       "    <tr>\n",
       "      <th>242</th>\n",
       "      <td>17.82</td>\n",
       "      <td>1.75</td>\n",
       "      <td>Male</td>\n",
       "      <td>No</td>\n",
       "      <td>Sat</td>\n",
       "      <td>Dinner</td>\n",
       "      <td>2</td>\n",
       "    </tr>\n",
       "    <tr>\n",
       "      <th>243</th>\n",
       "      <td>18.78</td>\n",
       "      <td>3.00</td>\n",
       "      <td>Female</td>\n",
       "      <td>No</td>\n",
       "      <td>Thur</td>\n",
       "      <td>Dinner</td>\n",
       "      <td>2</td>\n",
       "    </tr>\n",
       "  </tbody>\n",
       "</table>\n",
       "<p>244 rows × 7 columns</p>\n",
       "</div>"
      ],
      "text/plain": [
       "     total_bill   tip     sex smoker   day    time  size\n",
       "0         16.99  1.01  Female     No   Sun  Dinner     2\n",
       "1         10.34  1.66    Male     No   Sun  Dinner     3\n",
       "2         21.01  3.50    Male     No   Sun  Dinner     3\n",
       "3         23.68  3.31    Male     No   Sun  Dinner     2\n",
       "4         24.59  3.61  Female     No   Sun  Dinner     4\n",
       "..          ...   ...     ...    ...   ...     ...   ...\n",
       "239       29.03  5.92    Male     No   Sat  Dinner     3\n",
       "240       27.18  2.00  Female    Yes   Sat  Dinner     2\n",
       "241       22.67  2.00    Male    Yes   Sat  Dinner     2\n",
       "242       17.82  1.75    Male     No   Sat  Dinner     2\n",
       "243       18.78  3.00  Female     No  Thur  Dinner     2\n",
       "\n",
       "[244 rows x 7 columns]"
      ]
     },
     "metadata": {},
     "output_type": "display_data"
    }
   ],
   "source": [
    "tips = sb.load_dataset(\"tips\")\n",
    "display(tips)"
   ]
  },
  {
   "cell_type": "markdown",
   "id": "b161ac8a",
   "metadata": {},
   "source": [
    "## Subconjunto de datos\n",
    "Para este ejemplo, solo se usarán tres variables: total_bill, size y tip"
   ]
  },
  {
   "cell_type": "code",
   "execution_count": 6,
   "id": "ca4b89c8",
   "metadata": {},
   "outputs": [
    {
     "data": {
      "text/html": [
       "<div>\n",
       "<style scoped>\n",
       "    .dataframe tbody tr th:only-of-type {\n",
       "        vertical-align: middle;\n",
       "    }\n",
       "\n",
       "    .dataframe tbody tr th {\n",
       "        vertical-align: top;\n",
       "    }\n",
       "\n",
       "    .dataframe thead th {\n",
       "        text-align: right;\n",
       "    }\n",
       "</style>\n",
       "<table border=\"1\" class=\"dataframe\">\n",
       "  <thead>\n",
       "    <tr style=\"text-align: right;\">\n",
       "      <th></th>\n",
       "      <th>total_bill</th>\n",
       "      <th>size</th>\n",
       "      <th>tip</th>\n",
       "    </tr>\n",
       "  </thead>\n",
       "  <tbody>\n",
       "    <tr>\n",
       "      <th>0</th>\n",
       "      <td>16.99</td>\n",
       "      <td>2</td>\n",
       "      <td>1.01</td>\n",
       "    </tr>\n",
       "    <tr>\n",
       "      <th>1</th>\n",
       "      <td>10.34</td>\n",
       "      <td>3</td>\n",
       "      <td>1.66</td>\n",
       "    </tr>\n",
       "    <tr>\n",
       "      <th>2</th>\n",
       "      <td>21.01</td>\n",
       "      <td>3</td>\n",
       "      <td>3.50</td>\n",
       "    </tr>\n",
       "    <tr>\n",
       "      <th>3</th>\n",
       "      <td>23.68</td>\n",
       "      <td>2</td>\n",
       "      <td>3.31</td>\n",
       "    </tr>\n",
       "    <tr>\n",
       "      <th>4</th>\n",
       "      <td>24.59</td>\n",
       "      <td>4</td>\n",
       "      <td>3.61</td>\n",
       "    </tr>\n",
       "    <tr>\n",
       "      <th>...</th>\n",
       "      <td>...</td>\n",
       "      <td>...</td>\n",
       "      <td>...</td>\n",
       "    </tr>\n",
       "    <tr>\n",
       "      <th>239</th>\n",
       "      <td>29.03</td>\n",
       "      <td>3</td>\n",
       "      <td>5.92</td>\n",
       "    </tr>\n",
       "    <tr>\n",
       "      <th>240</th>\n",
       "      <td>27.18</td>\n",
       "      <td>2</td>\n",
       "      <td>2.00</td>\n",
       "    </tr>\n",
       "    <tr>\n",
       "      <th>241</th>\n",
       "      <td>22.67</td>\n",
       "      <td>2</td>\n",
       "      <td>2.00</td>\n",
       "    </tr>\n",
       "    <tr>\n",
       "      <th>242</th>\n",
       "      <td>17.82</td>\n",
       "      <td>2</td>\n",
       "      <td>1.75</td>\n",
       "    </tr>\n",
       "    <tr>\n",
       "      <th>243</th>\n",
       "      <td>18.78</td>\n",
       "      <td>2</td>\n",
       "      <td>3.00</td>\n",
       "    </tr>\n",
       "  </tbody>\n",
       "</table>\n",
       "<p>244 rows × 3 columns</p>\n",
       "</div>"
      ],
      "text/plain": [
       "     total_bill  size   tip\n",
       "0         16.99     2  1.01\n",
       "1         10.34     3  1.66\n",
       "2         21.01     3  3.50\n",
       "3         23.68     2  3.31\n",
       "4         24.59     4  3.61\n",
       "..          ...   ...   ...\n",
       "239       29.03     3  5.92\n",
       "240       27.18     2  2.00\n",
       "241       22.67     2  2.00\n",
       "242       17.82     2  1.75\n",
       "243       18.78     2  3.00\n",
       "\n",
       "[244 rows x 3 columns]"
      ]
     },
     "metadata": {},
     "output_type": "display_data"
    }
   ],
   "source": [
    "df = tips.loc[:,['total_bill', \"size\",\"tip\"]]\n",
    "display(df)"
   ]
  },
  {
   "cell_type": "markdown",
   "id": "fe43e1b2",
   "metadata": {},
   "source": [
    "Se agregan *missing values*."
   ]
  },
  {
   "cell_type": "code",
   "execution_count": 41,
   "id": "069f665f",
   "metadata": {},
   "outputs": [
    {
     "data": {
      "image/png": "[encoded data removed]",
      "text/plain": [
       "<Figure size 360x360 with 1 Axes>"
      ]
     },
     "metadata": {},
     "output_type": "display_data"
    }
   ],
   "source": [
    "sb.set(style=\"darkgrid\")\n",
    "sb.relplot(x = \"total_bill\", y = \"tip\", data = df);"
   ]
  },
  {
   "cell_type": "code",
   "execution_count": 23,
   "id": "cdf29817",
   "metadata": {},
   "outputs": [],
   "source": [
    "# Agregando datos faltantes en variable size\n",
    "df.loc[0:20, \"size\"] = np.nan\n",
    "\n",
    "# Agregando datos faltantes en variable total_bill\n",
    "df.loc[220:230, \"total_bill\"] = np.nan"
   ]
  },
  {
   "cell_type": "markdown",
   "id": "ec9137e3",
   "metadata": {},
   "source": [
    "## Correlación"
   ]
  },
  {
   "cell_type": "code",
   "execution_count": 12,
   "id": "22cd86d4",
   "metadata": {},
   "outputs": [
    {
     "data": {
      "text/html": [
       "<style  type=\"text/css\" >\n",
       "#T_e720f_row0_col0,#T_e720f_row1_col1,#T_e720f_row2_col2{\n",
       "            background-color:  #b40426;\n",
       "            color:  #f1f1f1;\n",
       "        }#T_e720f_row0_col1{\n",
       "            background-color:  #7ea1fa;\n",
       "            color:  #000000;\n",
       "        }#T_e720f_row0_col2{\n",
       "            background-color:  #afcafc;\n",
       "            color:  #000000;\n",
       "        }#T_e720f_row1_col0,#T_e720f_row1_col2,#T_e720f_row2_col1{\n",
       "            background-color:  #3b4cc0;\n",
       "            color:  #f1f1f1;\n",
       "        }#T_e720f_row2_col0{\n",
       "            background-color:  #7597f6;\n",
       "            color:  #000000;\n",
       "        }</style><table id=\"T_e720f_\" ><thead>    <tr>        <th class=\"blank level0\" ></th>        <th class=\"col_heading level0 col0\" >total_bill</th>        <th class=\"col_heading level0 col1\" >size</th>        <th class=\"col_heading level0 col2\" >tip</th>    </tr></thead><tbody>\n",
       "                <tr>\n",
       "                        <th id=\"T_e720f_level0_row0\" class=\"row_heading level0 row0\" >total_bill</th>\n",
       "                        <td id=\"T_e720f_row0_col0\" class=\"data row0 col0\" >1.00</td>\n",
       "                        <td id=\"T_e720f_row0_col1\" class=\"data row0 col1\" >0.60</td>\n",
       "                        <td id=\"T_e720f_row0_col2\" class=\"data row0 col2\" >0.67</td>\n",
       "            </tr>\n",
       "            <tr>\n",
       "                        <th id=\"T_e720f_level0_row1\" class=\"row_heading level0 row1\" >size</th>\n",
       "                        <td id=\"T_e720f_row1_col0\" class=\"data row1 col0\" >0.60</td>\n",
       "                        <td id=\"T_e720f_row1_col1\" class=\"data row1 col1\" >1.00</td>\n",
       "                        <td id=\"T_e720f_row1_col2\" class=\"data row1 col2\" >0.50</td>\n",
       "            </tr>\n",
       "            <tr>\n",
       "                        <th id=\"T_e720f_level0_row2\" class=\"row_heading level0 row2\" >tip</th>\n",
       "                        <td id=\"T_e720f_row2_col0\" class=\"data row2 col0\" >0.67</td>\n",
       "                        <td id=\"T_e720f_row2_col1\" class=\"data row2 col1\" >0.50</td>\n",
       "                        <td id=\"T_e720f_row2_col2\" class=\"data row2 col2\" >1.00</td>\n",
       "            </tr>\n",
       "    </tbody></table>"
      ],
      "text/plain": [
       "<pandas.io.formats.style.Styler at 0x13d391430>"
      ]
     },
     "execution_count": 12,
     "metadata": {},
     "output_type": "execute_result"
    }
   ],
   "source": [
    "df_drop = df.dropna(axis=0)\n",
    "corr = df_drop.corr()\n",
    "corr.style.background_gradient(cmap=\"coolwarm\").set_precision(2)\n"
   ]
  },
  {
   "cell_type": "markdown",
   "id": "15cdb483",
   "metadata": {},
   "source": [
    "- Las variables total_bill y tip tienen la mayor correlación"
   ]
  },
  {
   "cell_type": "markdown",
   "id": "883f98ce",
   "metadata": {},
   "source": [
    "## Construcción de datasets para la regresión lineal\n",
    "- variable total_bill tiene datos faltantes\n",
    "- se obtendrán los datos faltantes realizando una regresión lineal donde la variable independiente es el atributo \"tip\"."
   ]
  },
  {
   "cell_type": "code",
   "execution_count": 24,
   "id": "fa9a524c",
   "metadata": {},
   "outputs": [
    {
     "name": "stdout",
     "output_type": "stream",
     "text": [
      "0      False\n",
      "1      False\n",
      "2      False\n",
      "3      False\n",
      "4      False\n",
      "       ...  \n",
      "239    False\n",
      "240    False\n",
      "241    False\n",
      "242    False\n",
      "243    False\n",
      "Name: total_bill, Length: 244, dtype: bool\n"
     ]
    }
   ],
   "source": [
    "# subconjunto sin missing values, considerando solo los \n",
    "# atributos total_bill y  tip\n",
    "\n",
    "df_bill_tip = df.dropna(axis = 0, subset = [\"total_bill\", \"tip\"])\n",
    "df_bill_tip = df_bill_tip.loc[:, [\"total_bill\", \"tip\"]]\n",
    "\n",
    "# máscara indicando ubicación \n",
    "# de datos con missing values en la variable total_bill\n",
    "missing_bill = df[\"total_bill\"].isnull()\n",
    "\n",
    "# extracción de los valores de la variable tips\n",
    "# donde la variable total_bill tiene missing values\n",
    "tip_misbill = pd.DataFrame(df[\"tip\"][missing_bill])\n",
    "\n",
    "\n"
   ]
  },
  {
   "cell_type": "code",
   "execution_count": 35,
   "id": "89a23702",
   "metadata": {},
   "outputs": [
    {
     "data": {
      "text/html": [
       "<div>\n",
       "<style scoped>\n",
       "    .dataframe tbody tr th:only-of-type {\n",
       "        vertical-align: middle;\n",
       "    }\n",
       "\n",
       "    .dataframe tbody tr th {\n",
       "        vertical-align: top;\n",
       "    }\n",
       "\n",
       "    .dataframe thead th {\n",
       "        text-align: right;\n",
       "    }\n",
       "</style>\n",
       "<table border=\"1\" class=\"dataframe\">\n",
       "  <thead>\n",
       "    <tr style=\"text-align: right;\">\n",
       "      <th></th>\n",
       "      <th>tips</th>\n",
       "      <th>total_bill predicted</th>\n",
       "    </tr>\n",
       "  </thead>\n",
       "  <tbody>\n",
       "    <tr>\n",
       "      <th>0</th>\n",
       "      <td>[2.2]</td>\n",
       "      <td>16.536584</td>\n",
       "    </tr>\n",
       "    <tr>\n",
       "      <th>1</th>\n",
       "      <td>[3.48]</td>\n",
       "      <td>22.057299</td>\n",
       "    </tr>\n",
       "    <tr>\n",
       "      <th>2</th>\n",
       "      <td>[1.92]</td>\n",
       "      <td>15.328928</td>\n",
       "    </tr>\n",
       "    <tr>\n",
       "      <th>3</th>\n",
       "      <td>[3.0]</td>\n",
       "      <td>19.987031</td>\n",
       "    </tr>\n",
       "    <tr>\n",
       "      <th>4</th>\n",
       "      <td>[1.58]</td>\n",
       "      <td>13.862488</td>\n",
       "    </tr>\n",
       "    <tr>\n",
       "      <th>5</th>\n",
       "      <td>[2.5]</td>\n",
       "      <td>17.830502</td>\n",
       "    </tr>\n",
       "    <tr>\n",
       "      <th>6</th>\n",
       "      <td>[2.0]</td>\n",
       "      <td>15.673973</td>\n",
       "    </tr>\n",
       "    <tr>\n",
       "      <th>7</th>\n",
       "      <td>[3.0]</td>\n",
       "      <td>19.987031</td>\n",
       "    </tr>\n",
       "    <tr>\n",
       "      <th>8</th>\n",
       "      <td>[2.72]</td>\n",
       "      <td>18.779375</td>\n",
       "    </tr>\n",
       "    <tr>\n",
       "      <th>9</th>\n",
       "      <td>[2.88]</td>\n",
       "      <td>19.469464</td>\n",
       "    </tr>\n",
       "    <tr>\n",
       "      <th>10</th>\n",
       "      <td>[2.0]</td>\n",
       "      <td>15.673973</td>\n",
       "    </tr>\n",
       "  </tbody>\n",
       "</table>\n",
       "</div>"
      ],
      "text/plain": [
       "      tips  total_bill predicted\n",
       "0    [2.2]             16.536584\n",
       "1   [3.48]             22.057299\n",
       "2   [1.92]             15.328928\n",
       "3    [3.0]             19.987031\n",
       "4   [1.58]             13.862488\n",
       "5    [2.5]             17.830502\n",
       "6    [2.0]             15.673973\n",
       "7    [3.0]             19.987031\n",
       "8   [2.72]             18.779375\n",
       "9   [2.88]             19.469464\n",
       "10   [2.0]             15.673973"
      ]
     },
     "metadata": {},
     "output_type": "display_data"
    }
   ],
   "source": [
    "X = df_bill_tip[[\"tip\"]]\n",
    "y = df_bill_tip[\"total_bill\"]\n",
    "\n",
    "from sklearn.model_selection import train_test_split\n",
    "\n",
    "X_train, X_test, y_train, y_test = train_test_split(X,y,test_size=0.2, random_state=42)\n",
    "\n",
    "from sklearn.linear_model import LinearRegression\n",
    "\n",
    "model = LinearRegression().fit(X_train, y_train)\n",
    "\n",
    "bill_pred = model.predict(tip_misbill)\n",
    "\n",
    "df_tips_bill = pd.DataFrame(list(zip(tip_misbill.values,bill_pred)),\n",
    "                           columns =[\"tips\",\"total_bill predicted\"])\n",
    "display(df_tips_bill)"
   ]
  },
  {
   "cell_type": "markdown",
   "id": "4afe0cd0",
   "metadata": {},
   "source": [
    "# Plotting"
   ]
  },
  {
   "cell_type": "code",
   "execution_count": 39,
   "id": "37108848",
   "metadata": {},
   "outputs": [
    {
     "data": {
      "image/png": "[encoded data removed]",
      "text/plain": [
       "<Figure size 432x288 with 1 Axes>"
      ]
     },
     "metadata": {
      "needs_background": "light"
     },
     "output_type": "display_data"
    }
   ],
   "source": [
    "plt.figure()\n",
    "# tips --> dataset original, scattering de los valores reales\n",
    "\n",
    "plt.scatter(tip_misbill, tips[\"total_bill\"][missing_bill], label = \"valores reales\")\n",
    "# valores predichos\n",
    "plt.plot(tip_misbill, bill_pred, color=\"red\", linewidth=1, alpha=0.2, label = \"valores predichos\")\n",
    "plt.scatter(tip_misbill, bill_pred, color=\"red\")\n",
    "plt.xlabel(\"tip\")\n",
    "plt.ylabel(\"total_bill\")\n",
    "plt.legend(loc = \"best\")\n",
    "plt.show()"
   ]
  },
  {
   "cell_type": "code",
   "execution_count": null,
   "id": "4a6b92bc",
   "metadata": {},
   "outputs": [],
   "source": []
  }
 ],
 "metadata": {
  "kernelspec": {
   "display_name": "Python 3",
   "language": "python",
   "name": "python3"
  },
  "language_info": {
   "codemirror_mode": {
    "name": "ipython",
    "version": 3
   },
   "file_extension": ".py",
   "mimetype": "text/x-python",
   "name": "python",
   "nbconvert_exporter": "python",
   "pygments_lexer": "ipython3",
   "version": "3.8.10"
  }
 },
 "nbformat": 4,
 "nbformat_minor": 5
}
